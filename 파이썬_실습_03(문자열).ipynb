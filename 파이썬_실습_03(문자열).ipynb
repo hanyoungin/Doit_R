{
  "nbformat": 4,
  "nbformat_minor": 0,
  "metadata": {
    "colab": {
      "name": "파이썬_실습_03(문자열).ipynb",
      "provenance": [],
      "collapsed_sections": [],
      "include_colab_link": true
    },
    "kernelspec": {
      "name": "python3",
      "display_name": "Python 3"
    },
    "language_info": {
      "name": "python"
    }
  },
  "cells": [
    {
      "cell_type": "markdown",
      "metadata": {
        "id": "view-in-github",
        "colab_type": "text"
      },
      "source": [
        "<a href=\"https://colab.research.google.com/github/hanyoungin/Doit_R/blob/master/%ED%8C%8C%EC%9D%B4%EC%8D%AC_%EC%8B%A4%EC%8A%B5_03(%EB%AC%B8%EC%9E%90%EC%97%B4).ipynb\" target=\"_parent\"><img src=\"https://colab.research.google.com/assets/colab-badge.svg\" alt=\"Open In Colab\"/></a>"
      ]
    },
    {
      "cell_type": "markdown",
      "metadata": {
        "id": "Pm1u6ctV0X_s"
      },
      "source": [
        "# 문제 1"
      ]
    },
    {
      "cell_type": "markdown",
      "metadata": {
        "id": "pRnkMIXF0brk"
      },
      "source": [
        "다음 문자열을 대문자로 변경하세요.\n",
        "\n",
        "\n",
        "```\n",
        "a = 'thinking'\n",
        "```\n"
      ]
    },
    {
      "cell_type": "code",
      "metadata": {
        "id": "mMf2XGcG0R_b",
        "colab": {
          "base_uri": "https://localhost:8080/"
        },
        "outputId": "feeb4bb8-bd7e-464f-9288-1ce0f51c34ea"
      },
      "source": [
        "## 1번 문제 답안\n",
        "\n",
        "a = 'thinking'\n",
        "\n",
        "A = a.upper()\n",
        "print(A)"
      ],
      "execution_count": null,
      "outputs": [
        {
          "output_type": "stream",
          "name": "stdout",
          "text": [
            "THINKING\n"
          ]
        }
      ]
    },
    {
      "cell_type": "markdown",
      "metadata": {
        "id": "ORvepwSF0qtq"
      },
      "source": [
        "# 문제 2"
      ]
    },
    {
      "cell_type": "markdown",
      "metadata": {
        "id": "86rp5nnu02pM"
      },
      "source": [
        "다음 문자열을 소문자로 변경하세요.\n",
        "\n",
        "\n",
        "```\n",
        "a = 'THINKING'\n",
        "```"
      ]
    },
    {
      "cell_type": "code",
      "metadata": {
        "id": "9GdNJN120wRC",
        "colab": {
          "base_uri": "https://localhost:8080/"
        },
        "outputId": "8c90c353-97bb-4e05-afb0-c8558192fd3a"
      },
      "source": [
        "## 2번 문제 답안\n",
        "a = 'THINKING'\n",
        "\n",
        "A = a.lower()\n",
        "print(A)"
      ],
      "execution_count": null,
      "outputs": [
        {
          "output_type": "stream",
          "name": "stdout",
          "text": [
            "thinking\n"
          ]
        }
      ]
    },
    {
      "cell_type": "markdown",
      "metadata": {
        "id": "Jgd_VXNo3yQh"
      },
      "source": [
        "# 문제 3"
      ]
    },
    {
      "cell_type": "markdown",
      "metadata": {
        "id": "zISnWhEM3ze2"
      },
      "source": [
        "다음과 같은 문자열의 앞글자만 대문자로 변경하세요.\n",
        "\n",
        "\n",
        "```\n",
        "a = 'thinking'\n",
        "```\n"
      ]
    },
    {
      "cell_type": "code",
      "metadata": {
        "id": "pb7NXbYI2GE3",
        "colab": {
          "base_uri": "https://localhost:8080/"
        },
        "outputId": "75bee70c-e6fd-41d8-93c9-5e8e056f3ef5"
      },
      "source": [
        "## 3번 문제 답안\n",
        "\n",
        "a = 'thinking'\n",
        "\n",
        "A = a.capitalize()\n",
        "print(A)"
      ],
      "execution_count": null,
      "outputs": [
        {
          "output_type": "stream",
          "name": "stdout",
          "text": [
            "Thinking\n"
          ]
        }
      ]
    },
    {
      "cell_type": "markdown",
      "metadata": {
        "id": "1LGCdWqq22gy"
      },
      "source": [
        "# 문제 4"
      ]
    },
    {
      "cell_type": "markdown",
      "metadata": {
        "id": "BtC4bKyh22gy"
      },
      "source": [
        "다음 파일 이름이 'csv'로 끝나는지 확인해보세요.(endswith 메서드 활용)\n",
        "\n",
        "\n",
        "\n",
        "```\n",
        "file_name = test.csv\n",
        "```\n",
        "\n"
      ]
    },
    {
      "cell_type": "code",
      "metadata": {
        "id": "rEaoKPLE22gz",
        "colab": {
          "base_uri": "https://localhost:8080/"
        },
        "outputId": "75177936-23da-4dc9-a95a-9bd1bd0b834b"
      },
      "source": [
        "## 4번 문제 답안\n",
        "\n",
        "file_name = \"test.csv\"\n",
        "file_name.endswith(\"csv\")"
      ],
      "execution_count": null,
      "outputs": [
        {
          "output_type": "execute_result",
          "data": {
            "text/plain": [
              "True"
            ]
          },
          "metadata": {},
          "execution_count": 7
        }
      ]
    },
    {
      "cell_type": "markdown",
      "metadata": {
        "id": "r-vFyIsjEhB1"
      },
      "source": [
        "# 문제 5"
      ]
    },
    {
      "cell_type": "markdown",
      "metadata": {
        "id": "bz3tqbn9EhB2"
      },
      "source": [
        "다음 파일 이름이 'test'로 시작하는지 확인해보세요.(startswith 메서드 활용)\n",
        "\n",
        "```\n",
        "file_name = test.csv\n",
        "```"
      ]
    },
    {
      "cell_type": "code",
      "metadata": {
        "id": "bT81byWQEhB2",
        "colab": {
          "base_uri": "https://localhost:8080/"
        },
        "outputId": "bfdcdcea-8a14-48f7-dd4b-0c04dddd0fd7"
      },
      "source": [
        "## 5번 문제 답안\n",
        "\n",
        "file_name = \"test.csv\"\n",
        "file_name.startswith(\"test\")"
      ],
      "execution_count": null,
      "outputs": [
        {
          "output_type": "execute_result",
          "data": {
            "text/plain": [
              "True"
            ]
          },
          "metadata": {},
          "execution_count": 9
        }
      ]
    },
    {
      "cell_type": "markdown",
      "metadata": {
        "id": "5sxb2OWRCwn9"
      },
      "source": [
        "# 문제 6"
      ]
    },
    {
      "cell_type": "markdown",
      "metadata": {
        "id": "zDDehOKxCwn-"
      },
      "source": [
        "다음과 같은 문자열을 공백을 기준으로 나누어보세요.\n",
        "\n",
        "```\n",
        "a = \"hello python\"\n",
        "```"
      ]
    },
    {
      "cell_type": "code",
      "metadata": {
        "id": "6W52GS2ACwn-",
        "colab": {
          "base_uri": "https://localhost:8080/"
        },
        "outputId": "227a33b3-2752-400b-bdf6-53053fb36384"
      },
      "source": [
        "## 6번 문제 답안\n",
        "a = \"hello python\"\n",
        "\n",
        "a.split()"
      ],
      "execution_count": null,
      "outputs": [
        {
          "output_type": "execute_result",
          "data": {
            "text/plain": [
              "['hello', 'python']"
            ]
          },
          "metadata": {},
          "execution_count": 10
        }
      ]
    },
    {
      "cell_type": "markdown",
      "metadata": {
        "id": "jdynGZevFU2l"
      },
      "source": [
        "# 문제 7"
      ]
    },
    {
      "cell_type": "markdown",
      "metadata": {
        "id": "a3EwSgnhFU2r"
      },
      "source": [
        "다음과 같은 문자열을 특수문자 '!'를 기준으로 나누어보세요.\n",
        "\n",
        "```\n",
        "a = \"hello!python!test\"\n",
        "```"
      ]
    },
    {
      "cell_type": "code",
      "metadata": {
        "id": "wBdLGvvRFU2r",
        "colab": {
          "base_uri": "https://localhost:8080/"
        },
        "outputId": "8289adaa-83df-4891-eeb7-3f38475a125d"
      },
      "source": [
        "## 7번 문제 답안\n",
        "a = \"hello!python!test\"\n",
        "\n",
        "a.split(\"!\")"
      ],
      "execution_count": null,
      "outputs": [
        {
          "output_type": "execute_result",
          "data": {
            "text/plain": [
              "['hello', 'python', 'test']"
            ]
          },
          "metadata": {},
          "execution_count": 12
        }
      ]
    },
    {
      "cell_type": "markdown",
      "metadata": {
        "id": "5HHnieSPFzvh"
      },
      "source": [
        "# 문제 8"
      ]
    },
    {
      "cell_type": "markdown",
      "metadata": {
        "id": "qufnaKxxFzvp"
      },
      "source": [
        "날짜를 표현하는 문자열을 연도, 월, 일로 나누어보세요.\n",
        "\n",
        "```\n",
        "date = \"2023-02-14\"\n",
        "```"
      ]
    },
    {
      "cell_type": "code",
      "metadata": {
        "id": "_rcXw1qdFzvq",
        "colab": {
          "base_uri": "https://localhost:8080/"
        },
        "outputId": "caacf989-f857-43bf-c3ba-8d9eb55a145a"
      },
      "source": [
        "## 8번 문제 답안\n",
        "date = \"2023-02-14\"\n",
        "\n",
        "date.split(\"-\")"
      ],
      "execution_count": null,
      "outputs": [
        {
          "output_type": "execute_result",
          "data": {
            "text/plain": [
              "['2023', '02', '14']"
            ]
          },
          "metadata": {},
          "execution_count": 13
        }
      ]
    },
    {
      "cell_type": "markdown",
      "metadata": {
        "id": "RM2JiWMvGP-r"
      },
      "source": [
        "# 문제 9"
      ]
    },
    {
      "cell_type": "markdown",
      "metadata": {
        "id": "OnRJSftVGP-s"
      },
      "source": [
        "문자열 오른쪽의 공백을 제거하세요.\n",
        "\n",
        "```\n",
        "a = \"hello python      \"\n",
        "```"
      ]
    },
    {
      "cell_type": "code",
      "metadata": {
        "id": "CRXiW14OGP-s",
        "colab": {
          "base_uri": "https://localhost:8080/"
        },
        "outputId": "25913359-f370-4328-ac7e-beb0715e0f9c"
      },
      "source": [
        "## 9번 문제 답안\n",
        "a = \"hello python      \"\n",
        "\n",
        "A = a.rstrip()\n",
        "print(A)"
      ],
      "execution_count": null,
      "outputs": [
        {
          "output_type": "stream",
          "name": "stdout",
          "text": [
            "hello python\n"
          ]
        }
      ]
    },
    {
      "cell_type": "markdown",
      "metadata": {
        "id": "LIdzs1uvG6KY"
      },
      "source": [
        "# 문제 10"
      ]
    },
    {
      "cell_type": "markdown",
      "metadata": {
        "id": "wtkb6eNwG6Km"
      },
      "source": [
        "문자열 왼쪽의 공백을 제거하세요.\n",
        "\n",
        "```\n",
        "a = \"        hello python\"\n",
        "```"
      ]
    },
    {
      "cell_type": "code",
      "metadata": {
        "id": "YVDBbbp6G6Kn",
        "colab": {
          "base_uri": "https://localhost:8080/"
        },
        "outputId": "27efebec-fb28-45b6-c96c-c73db8048c20"
      },
      "source": [
        "## 10번 문제 답안\n",
        "a = \"        hello python\"\n",
        "\n",
        "A = a.lstrip()\n",
        "print(A)"
      ],
      "execution_count": null,
      "outputs": [
        {
          "output_type": "stream",
          "name": "stdout",
          "text": [
            "hello python\n"
          ]
        }
      ]
    }
  ]
}