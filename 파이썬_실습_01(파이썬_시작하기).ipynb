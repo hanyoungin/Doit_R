{
  "nbformat": 4,
  "nbformat_minor": 0,
  "metadata": {
    "colab": {
      "name": "파이썬_실습_01(파이썬_시작하기).ipynb",
      "provenance": [],
      "collapsed_sections": [],
      "include_colab_link": true
    },
    "kernelspec": {
      "name": "python3",
      "display_name": "Python 3"
    },
    "language_info": {
      "name": "python"
    }
  },
  "cells": [
    {
      "cell_type": "markdown",
      "metadata": {
        "id": "view-in-github",
        "colab_type": "text"
      },
      "source": [
        "<a href=\"https://colab.research.google.com/github/hanyoungin/Doit_R/blob/master/%ED%8C%8C%EC%9D%B4%EC%8D%AC_%EC%8B%A4%EC%8A%B5_01(%ED%8C%8C%EC%9D%B4%EC%8D%AC_%EC%8B%9C%EC%9E%91%ED%95%98%EA%B8%B0).ipynb\" target=\"_parent\"><img src=\"https://colab.research.google.com/assets/colab-badge.svg\" alt=\"Open In Colab\"/></a>"
      ]
    },
    {
      "cell_type": "markdown",
      "metadata": {
        "id": "Pm1u6ctV0X_s"
      },
      "source": [
        "# 문제 1"
      ]
    },
    {
      "cell_type": "markdown",
      "metadata": {
        "id": "pRnkMIXF0brk"
      },
      "source": [
        "화면에 안녕하세요 문자열을 출력하세요."
      ]
    },
    {
      "cell_type": "code",
      "metadata": {
        "id": "mMf2XGcG0R_b",
        "colab": {
          "base_uri": "https://localhost:8080/"
        },
        "outputId": "b0d372bc-fe87-463f-9a13-2092699be6e3"
      },
      "source": [
        "## 1번 문제 답안\n",
        "\n",
        "print(\"안녕하세요.\")\n",
        "\n"
      ],
      "execution_count": null,
      "outputs": [
        {
          "output_type": "stream",
          "name": "stdout",
          "text": [
            "안녕하세요.\n"
          ]
        }
      ]
    },
    {
      "cell_type": "markdown",
      "metadata": {
        "id": "ORvepwSF0qtq"
      },
      "source": [
        "# 문제 2"
      ]
    },
    {
      "cell_type": "markdown",
      "metadata": {
        "id": "86rp5nnu02pM"
      },
      "source": [
        "화면에 아래 문장을 출력하세요.\n",
        "\n",
        "**친구들은 \"파이썬은 정말 쉬워\" 라고 외쳤다.**"
      ]
    },
    {
      "cell_type": "code",
      "metadata": {
        "id": "9GdNJN120wRC",
        "colab": {
          "base_uri": "https://localhost:8080/"
        },
        "outputId": "2c0c729d-ab67-44b3-8def-f475d1757179"
      },
      "source": [
        "## 2번 문제 답안\n",
        "\n",
        "print(\"친구들은 파이썬은 정말 쉬워 라고 외쳤다.\")"
      ],
      "execution_count": null,
      "outputs": [
        {
          "output_type": "stream",
          "name": "stdout",
          "text": [
            "친구들은 파이썬은 정말 쉬워 라고 외쳤다.\n"
          ]
        }
      ]
    },
    {
      "cell_type": "markdown",
      "metadata": {
        "id": "Jgd_VXNo3yQh"
      },
      "source": [
        "# 문제 3"
      ]
    },
    {
      "cell_type": "markdown",
      "metadata": {
        "id": "zISnWhEM3ze2"
      },
      "source": [
        "print() 함수를 사용하여 다음과 같이 출력하세요.(4개 단어를 이어서 출력합니다.)\n",
        "\n",
        "**연필 지갑 노트북 휴대폰**"
      ]
    },
    {
      "cell_type": "code",
      "metadata": {
        "id": "pb7NXbYI2GE3",
        "colab": {
          "base_uri": "https://localhost:8080/"
        },
        "outputId": "f786ae5e-8cf6-4762-e5bb-db2732cc096c"
      },
      "source": [
        "## 3번 문제 답안\n",
        "print(\"연필\", \"지갑\", \"노트북\", \"휴대폰\")"
      ],
      "execution_count": null,
      "outputs": [
        {
          "output_type": "stream",
          "name": "stdout",
          "text": [
            "연필 지갑 노트북 휴대폰\n"
          ]
        }
      ]
    },
    {
      "cell_type": "markdown",
      "metadata": {
        "id": "1LGCdWqq22gy"
      },
      "source": [
        "# 문제 4"
      ]
    },
    {
      "cell_type": "markdown",
      "metadata": {
        "id": "BtC4bKyh22gy"
      },
      "source": [
        "print() 함수를 사용하여 다음과 같이 출력하세요.\n",
        "\n",
        "**연필/지갑/노트북/휴대폰**"
      ]
    },
    {
      "cell_type": "code",
      "metadata": {
        "id": "rEaoKPLE22gz",
        "colab": {
          "base_uri": "https://localhost:8080/"
        },
        "outputId": "706ee1ab-89f2-4401-a4b5-82c1caa95cf8"
      },
      "source": [
        "## 4번 문제 답안\n",
        "\n",
        "print(\"연필/지갑/노트북/휴대폰\")"
      ],
      "execution_count": null,
      "outputs": [
        {
          "output_type": "stream",
          "name": "stdout",
          "text": [
            "연필/지갑/노트북/휴대폰\n"
          ]
        }
      ]
    },
    {
      "cell_type": "markdown",
      "metadata": {
        "id": "r-vFyIsjEhB1"
      },
      "source": [
        "# 문제 5"
      ]
    },
    {
      "cell_type": "markdown",
      "metadata": {
        "id": "bz3tqbn9EhB2"
      },
      "source": [
        "print()함수를 사용하여 6*8의 결과를 화면에 출력하세요"
      ]
    },
    {
      "cell_type": "code",
      "metadata": {
        "id": "bT81byWQEhB2",
        "colab": {
          "base_uri": "https://localhost:8080/"
        },
        "outputId": "ac946d17-67e5-43a7-9b48-29150bd88350"
      },
      "source": [
        "## 5번 문제 답안\n",
        "\n",
        "print(6 * 8)"
      ],
      "execution_count": null,
      "outputs": [
        {
          "output_type": "stream",
          "name": "stdout",
          "text": [
            "48\n"
          ]
        }
      ]
    },
    {
      "cell_type": "markdown",
      "metadata": {
        "id": "5sxb2OWRCwn9"
      },
      "source": [
        "# 문제 6"
      ]
    },
    {
      "cell_type": "markdown",
      "metadata": {
        "id": "zDDehOKxCwn-"
      },
      "source": [
        "변수 a와 b를 활용하여 다음을 출력하세요.\n",
        "\n",
        "\n",
        "\n",
        "```\n",
        "a : hello\n",
        "b : world\n",
        "```\n",
        "\n",
        "\n",
        "\n",
        "원하는 출력 예시\n",
        "```\n",
        "hello world!\n"
      ]
    },
    {
      "cell_type": "code",
      "metadata": {
        "id": "6W52GS2ACwn-",
        "colab": {
          "base_uri": "https://localhost:8080/"
        },
        "outputId": "659fddcc-f84f-4af8-84e1-800386563114"
      },
      "source": [
        "## 6번 문제 답안\n",
        "a = \"hello\"\n",
        "b = \"world!\"\n",
        "\n",
        "print(a, b)"
      ],
      "execution_count": null,
      "outputs": [
        {
          "output_type": "stream",
          "name": "stdout",
          "text": [
            "hello world!\n"
          ]
        }
      ]
    },
    {
      "cell_type": "markdown",
      "metadata": {
        "id": "jdynGZevFU2l"
      },
      "source": [
        "# 문제 7"
      ]
    },
    {
      "cell_type": "markdown",
      "metadata": {
        "id": "a3EwSgnhFU2r"
      },
      "source": [
        "정수 1000을 문자열(str) '1000'으로 변환하세요.\n",
        "\n",
        "num = 1000"
      ]
    },
    {
      "cell_type": "code",
      "metadata": {
        "id": "wBdLGvvRFU2r",
        "colab": {
          "base_uri": "https://localhost:8080/"
        },
        "outputId": "e3b3b85d-95cc-4df0-80f5-d3888b4bd2ed"
      },
      "source": [
        "## 7번 문제 답안\n",
        "num = 1000\n",
        "\n",
        "num_str = str(num)\n",
        "print(num_str)\n",
        "print(type(num_str))"
      ],
      "execution_count": null,
      "outputs": [
        {
          "output_type": "stream",
          "name": "stdout",
          "text": [
            "1000\n",
            "<class 'str'>\n"
          ]
        }
      ]
    },
    {
      "cell_type": "markdown",
      "metadata": {
        "id": "5HHnieSPFzvh"
      },
      "source": [
        "# 문제 8"
      ]
    },
    {
      "cell_type": "markdown",
      "metadata": {
        "id": "qufnaKxxFzvp"
      },
      "source": [
        "문자열 \"25.1\"을 실수(float) 타입으로 변환해보세요.\n",
        "\n"
      ]
    },
    {
      "cell_type": "code",
      "metadata": {
        "id": "_rcXw1qdFzvq",
        "colab": {
          "base_uri": "https://localhost:8080/"
        },
        "outputId": "9e509c27-2f7e-4253-fcec-e4d70fb5bcc8"
      },
      "source": [
        "## 8번 문제 답안\n",
        "num = \"25.1\"\n",
        "\n",
        "num_float = float(num)\n",
        "print(num_float)\n",
        "print(type(num_float))"
      ],
      "execution_count": null,
      "outputs": [
        {
          "output_type": "stream",
          "name": "stdout",
          "text": [
            "25.1\n",
            "<class 'float'>\n"
          ]
        }
      ]
    },
    {
      "cell_type": "markdown",
      "metadata": {
        "id": "RM2JiWMvGP-r"
      },
      "source": [
        "# 문제 9"
      ]
    },
    {
      "cell_type": "markdown",
      "metadata": {
        "id": "OnRJSftVGP-s"
      },
      "source": [
        "아래의 year 변수(문자열 타입)를 정수로 변환하고 최근 5년의 연도를 출력해보세요.\n",
        "\n",
        "```\n",
        "year = \"2022\"\n",
        "```\n",
        "\n"
      ]
    },
    {
      "cell_type": "code",
      "metadata": {
        "id": "CRXiW14OGP-s",
        "colab": {
          "base_uri": "https://localhost:8080/"
        },
        "outputId": "8da2deff-0f6a-4049-9b5a-2af4545d473e"
      },
      "source": [
        "## 9번 문제 답안\n",
        "year = \"2022\"\n",
        "\n",
        "print(int(year)-5)\n",
        "print(int(year)-4)\n",
        "print(int(year)-3)\n",
        "print(int(year)-2)\n",
        "print(int(year)-1)"
      ],
      "execution_count": null,
      "outputs": [
        {
          "output_type": "stream",
          "name": "stdout",
          "text": [
            "2017\n",
            "2018\n",
            "2019\n",
            "2020\n",
            "2021\n"
          ]
        }
      ]
    },
    {
      "cell_type": "markdown",
      "metadata": {
        "id": "LIdzs1uvG6KY"
      },
      "source": [
        "# 문제 10"
      ]
    },
    {
      "cell_type": "markdown",
      "metadata": {
        "id": "wtkb6eNwG6Km"
      },
      "source": [
        "스마트폰이 월 25,540원에 무이자 24개월의 조건으로 판매되고 있다. 스마트폰 구매를 위하여 필요한 총 금액을 출력하세요.(변수 사용)"
      ]
    },
    {
      "cell_type": "code",
      "metadata": {
        "id": "YVDBbbp6G6Kn",
        "colab": {
          "base_uri": "https://localhost:8080/"
        },
        "outputId": "4835ca36-db4a-435d-d967-ebdf1d459e8f"
      },
      "source": [
        "## 10번 문제 답안\n",
        "month = 25540\n",
        "\n",
        "total = month * 36\n",
        "print(total)"
      ],
      "execution_count": null,
      "outputs": [
        {
          "output_type": "stream",
          "name": "stdout",
          "text": [
            "919440\n"
          ]
        }
      ]
    }
  ]
}