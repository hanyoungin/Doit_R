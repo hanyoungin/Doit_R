{
  "nbformat": 4,
  "nbformat_minor": 0,
  "metadata": {
    "colab": {
      "name": "파이썬_실습_05(튜플_딕셔너리).ipynb",
      "provenance": [],
      "collapsed_sections": [],
      "include_colab_link": true
    },
    "kernelspec": {
      "name": "python3",
      "display_name": "Python 3"
    },
    "language_info": {
      "name": "python"
    }
  },
  "cells": [
    {
      "cell_type": "markdown",
      "metadata": {
        "id": "view-in-github",
        "colab_type": "text"
      },
      "source": [
        "<a href=\"https://colab.research.google.com/github/hanyoungin/Doit_R/blob/master/%ED%8C%8C%EC%9D%B4%EC%8D%AC_%EC%8B%A4%EC%8A%B5_05(%ED%8A%9C%ED%94%8C_%EB%94%95%EC%85%94%EB%84%88%EB%A6%AC).ipynb\" target=\"_parent\"><img src=\"https://colab.research.google.com/assets/colab-badge.svg\" alt=\"Open In Colab\"/></a>"
      ]
    },
    {
      "cell_type": "markdown",
      "metadata": {
        "id": "Pm1u6ctV0X_s"
      },
      "source": [
        "# 문제 1"
      ]
    },
    {
      "cell_type": "markdown",
      "metadata": {
        "id": "pRnkMIXF0brk"
      },
      "source": [
        "아래는 우리 회사 내 부서의 실적 순위를 나타낸 것이다.\n",
        "이를 순서대로 튜플에 저장해보세요.\n",
        "\n",
        "\n",
        "```\n",
        "1 마케팅부\n",
        "2 고객관리부\n",
        "3 생산부\n",
        "```\n"
      ]
    },
    {
      "cell_type": "code",
      "metadata": {
        "id": "mMf2XGcG0R_b",
        "colab": {
          "base_uri": "https://localhost:8080/"
        },
        "outputId": "e235de8b-54c6-4bde-d461-d853d322f6ff"
      },
      "source": [
        "## 1번 문제 답안\n",
        "\n",
        "rank = (\"마케팅부\", \"고객관리부\", \"생산부\")\n",
        "print(rank)"
      ],
      "execution_count": null,
      "outputs": [
        {
          "output_type": "stream",
          "name": "stdout",
          "text": [
            "('마케팅부', '고객관리부', '생산부')\n"
          ]
        }
      ]
    },
    {
      "cell_type": "markdown",
      "metadata": {
        "id": "ORvepwSF0qtq"
      },
      "source": [
        "# 문제 2"
      ]
    },
    {
      "cell_type": "markdown",
      "metadata": {
        "id": "86rp5nnu02pM"
      },
      "source": [
        "rank라는 이름의 비어있는 튜플을 만들어보세요."
      ]
    },
    {
      "cell_type": "code",
      "metadata": {
        "id": "9GdNJN120wRC",
        "colab": {
          "base_uri": "https://localhost:8080/"
        },
        "outputId": "2242bff3-b973-4706-8030-2138b0526e13"
      },
      "source": [
        "## 2번 문제 답안\n",
        "rank = ()\n",
        "print(type(rank))"
      ],
      "execution_count": null,
      "outputs": [
        {
          "output_type": "stream",
          "name": "stdout",
          "text": [
            "<class 'tuple'>\n"
          ]
        }
      ]
    },
    {
      "cell_type": "markdown",
      "metadata": {
        "id": "Jgd_VXNo3yQh"
      },
      "source": [
        "# 문제 3"
      ]
    },
    {
      "cell_type": "markdown",
      "metadata": {
        "id": "zISnWhEM3ze2"
      },
      "source": [
        "숫자 10이 저장된 튜플을 만들어보세요."
      ]
    },
    {
      "cell_type": "markdown",
      "source": [
        "\n",
        "\n",
        "```\n",
        "10\n",
        "<class 'int'>\n",
        "(10,)\n",
        "<class 'tuple'>\n",
        "```\n",
        "\n"
      ],
      "metadata": {
        "id": "Lk7L0yrPKlH4"
      }
    },
    {
      "cell_type": "code",
      "metadata": {
        "id": "pb7NXbYI2GE3",
        "colab": {
          "base_uri": "https://localhost:8080/"
        },
        "outputId": "fa70b957-fff0-4bf9-905b-b978a7448db4"
      },
      "source": [
        "## 3번 문제 답안\n",
        "tuple1 = (10)\n",
        "print(tuple1)\n",
        "print(type(tuple1))\n",
        "\n",
        "## 여기에 입력하세요,\n",
        "tuple1 = (10,)\n",
        "print(tuple1)\n",
        "print(type(tuple1))"
      ],
      "execution_count": null,
      "outputs": [
        {
          "output_type": "stream",
          "name": "stdout",
          "text": [
            "10\n",
            "<class 'int'>\n",
            "(10,)\n",
            "<class 'tuple'>\n"
          ]
        }
      ]
    },
    {
      "cell_type": "markdown",
      "metadata": {
        "id": "1LGCdWqq22gy"
      },
      "source": [
        "# 문제 4"
      ]
    },
    {
      "cell_type": "markdown",
      "metadata": {
        "id": "BtC4bKyh22gy"
      },
      "source": [
        "다음 튜플을 리스트로 변환하세요.\n",
        "\n",
        "\n",
        "```\n",
        "rank = (\"마케팅부\", \"고객관리부\", \"생산부\")\n",
        "```"
      ]
    },
    {
      "cell_type": "code",
      "metadata": {
        "id": "rEaoKPLE22gz",
        "colab": {
          "base_uri": "https://localhost:8080/"
        },
        "outputId": "4c1d69d0-82fd-4aa6-ea4f-cbc76db6a052"
      },
      "source": [
        "## 4번 문제 답안\n",
        "\n",
        "rank = (\"마케팅부\", \"고객관리부\", \"생산부\")\n",
        "rank_list = list(rank)\n",
        "print(rank_list)"
      ],
      "execution_count": null,
      "outputs": [
        {
          "output_type": "stream",
          "name": "stdout",
          "text": [
            "['마케팅부', '고객관리부', '생산부']\n"
          ]
        }
      ]
    },
    {
      "cell_type": "markdown",
      "metadata": {
        "id": "r-vFyIsjEhB1"
      },
      "source": [
        "# 문제 5"
      ]
    },
    {
      "cell_type": "markdown",
      "metadata": {
        "id": "bz3tqbn9EhB2"
      },
      "source": [
        "아래는 우리 회사 내 부서와 실적(단위 : 천원)을 나타낸 것이다.\n",
        "이를 순서대로 딕셔너리에 저장해보세요.\n",
        "\n",
        "\n",
        "```\n",
        "1 마케팅부, 20000\n",
        "2 고객관리부, 15000\n",
        "3 생산부, 10000\n",
        "```\n"
      ]
    },
    {
      "cell_type": "code",
      "metadata": {
        "id": "bT81byWQEhB2",
        "colab": {
          "base_uri": "https://localhost:8080/"
        },
        "outputId": "562c131d-ddaa-467a-caa5-278c19920f29"
      },
      "source": [
        "## 5번 문제 답안\n",
        "\n",
        "rank_dict = {\"마케팅부\": 20000, \"고객관리부\":15000, \"생산부\":10000}\n",
        "print(rank_dict)"
      ],
      "execution_count": null,
      "outputs": [
        {
          "output_type": "stream",
          "name": "stdout",
          "text": [
            "{'마케팅부': 20000, '고객관리부': 15000, '생산부': 10000}\n"
          ]
        }
      ]
    },
    {
      "cell_type": "markdown",
      "metadata": {
        "id": "5sxb2OWRCwn9"
      },
      "source": [
        "# 문제 6"
      ]
    },
    {
      "cell_type": "markdown",
      "metadata": {
        "id": "zDDehOKxCwn-"
      },
      "source": [
        "문제 5의 딕셔너리에 아래 정보를 추가하세요.\n",
        "```\n",
        "경영관리부, 7000\n",
        "서비스부, 5000\n",
        "```"
      ]
    },
    {
      "cell_type": "code",
      "metadata": {
        "id": "6W52GS2ACwn-",
        "colab": {
          "base_uri": "https://localhost:8080/"
        },
        "outputId": "6ef0fa5d-f780-4b39-8e75-b20c260e8e90"
      },
      "source": [
        "## 6번 문제 답안\n",
        "rank_dict = {\"마케팅부\": 20000, \"고객관리부\":15000, \"생산부\":10000}\n",
        "rank_dict[\"경영관리부\"] = 7000\n",
        "rank_dict[\"서비스부\"] = 5000\n",
        "print(rank_dict)"
      ],
      "execution_count": null,
      "outputs": [
        {
          "output_type": "stream",
          "name": "stdout",
          "text": [
            "{'마케팅부': 20000, '고객관리부': 15000, '생산부': 10000, '경영관리부': 7000, '서비스부': 5000}\n"
          ]
        }
      ]
    },
    {
      "cell_type": "markdown",
      "metadata": {
        "id": "jdynGZevFU2l"
      },
      "source": [
        "# 문제 7"
      ]
    },
    {
      "cell_type": "markdown",
      "metadata": {
        "id": "a3EwSgnhFU2r"
      },
      "source": [
        "다음 딕셔너리에서 경영관리부의 실적을 6500으로 수정해보세요.\n",
        "\n",
        "```\n",
        "rank_dict = {'마케팅부': 20000, '고객관리부': 15000, '생산부': 10000, '경영관리부': 7000, '서비스부': 5000}\n",
        "\n",
        "\n",
        "```\n",
        "\n"
      ]
    },
    {
      "cell_type": "code",
      "metadata": {
        "id": "wBdLGvvRFU2r",
        "colab": {
          "base_uri": "https://localhost:8080/"
        },
        "outputId": "c899b732-a94e-4e2f-f480-0dc564c7fbf0"
      },
      "source": [
        "## 7번 문제 답안\n",
        "rank_dict[\"경영관리부\"] = 6500\n",
        "print(rank_dict)"
      ],
      "execution_count": null,
      "outputs": [
        {
          "output_type": "stream",
          "name": "stdout",
          "text": [
            "{'마케팅부': 20000, '고객관리부': 15000, '생산부': 10000, '경영관리부': 6500, '서비스부': 5000}\n"
          ]
        }
      ]
    },
    {
      "cell_type": "markdown",
      "metadata": {
        "id": "5HHnieSPFzvh"
      },
      "source": [
        "# 문제 8"
      ]
    },
    {
      "cell_type": "markdown",
      "metadata": {
        "id": "qufnaKxxFzvp"
      },
      "source": [
        "다음 딕셔너리에서 경영관리부를 삭제하세요.\n",
        "\n",
        "```\n",
        "rank_dict = {'마케팅부': 20000, '고객관리부': 15000, '생산부': 10000, '경영관리부': 7000, '서비스부': 5000}\n",
        "\n",
        "\n",
        "```\n",
        "\n"
      ]
    },
    {
      "cell_type": "code",
      "metadata": {
        "id": "_rcXw1qdFzvq",
        "colab": {
          "base_uri": "https://localhost:8080/"
        },
        "outputId": "d77cd2b6-4788-4389-c562-ac2353da987f"
      },
      "source": [
        "## 8번 문제 답안\n",
        "del rank_dict[\"경영관리부\"]\n",
        "print(rank_dict)"
      ],
      "execution_count": null,
      "outputs": [
        {
          "output_type": "stream",
          "name": "stdout",
          "text": [
            "{'마케팅부': 20000, '고객관리부': 15000, '생산부': 10000, '서비스부': 5000}\n"
          ]
        }
      ]
    },
    {
      "cell_type": "markdown",
      "metadata": {
        "id": "RM2JiWMvGP-r"
      },
      "source": [
        "# 문제 9"
      ]
    },
    {
      "cell_type": "markdown",
      "metadata": {
        "id": "OnRJSftVGP-s"
      },
      "source": [
        "다음 딕셔너리에서 key 값으로만 구성된 리스트를 출력하세요.\n",
        "\n",
        "```\n",
        "rank_dict = {'마케팅부': 20000, '고객관리부': 15000, '생산부': 10000, '경영관리부': 7000, '서비스부': 5000}\n",
        "\n",
        "\n",
        "```\n",
        "\n"
      ]
    },
    {
      "cell_type": "code",
      "metadata": {
        "id": "CRXiW14OGP-s",
        "colab": {
          "base_uri": "https://localhost:8080/"
        },
        "outputId": "5e5df70f-f63f-456a-b9de-ddb9a15d6172"
      },
      "source": [
        "## 9번 문제 답안\n",
        "\n",
        "rank_dict = {'마케팅부': 20000, '고객관리부': 15000, '생산부': 10000, '경영관리부': 7000, '서비스부': 5000}\n",
        "keys = list(rank_dict.keys())\n",
        "print(keys)\n"
      ],
      "execution_count": null,
      "outputs": [
        {
          "output_type": "stream",
          "name": "stdout",
          "text": [
            "['마케팅부', '고객관리부', '생산부', '경영관리부', '서비스부']\n"
          ]
        }
      ]
    },
    {
      "cell_type": "markdown",
      "metadata": {
        "id": "LIdzs1uvG6KY"
      },
      "source": [
        "# 문제 10"
      ]
    },
    {
      "cell_type": "markdown",
      "metadata": {
        "id": "wtkb6eNwG6Km"
      },
      "source": [
        "다음 두 개의 튜플을 하나의 딕셔너리로 변환해보세요.\n",
        "```\n",
        "keys = (\"마케팅부\", \"고객관리부\", \"생산부\")\n",
        "values = (20000, 15000, 10000)\n",
        "```"
      ]
    },
    {
      "cell_type": "code",
      "metadata": {
        "id": "YVDBbbp6G6Kn",
        "colab": {
          "base_uri": "https://localhost:8080/"
        },
        "outputId": "a8b9604b-25fa-41fb-f58a-da3bf4c157f5"
      },
      "source": [
        "## 10번 문제 답안\n",
        "keys = (\"마케팅부\", \"고객관리부\", \"생산부\")\n",
        "values = (20000, 15000, 10000)\n",
        "result = dict(zip(keys, values))\n",
        "print(result)\n",
        "\n"
      ],
      "execution_count": null,
      "outputs": [
        {
          "output_type": "stream",
          "name": "stdout",
          "text": [
            "{'마케팅부': 20000, '고객관리부': 15000, '생산부': 10000}\n"
          ]
        }
      ]
    }
  ]
}